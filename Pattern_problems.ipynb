{
 "cells": [
  {
   "cell_type": "code",
   "execution_count": 1,
   "metadata": {},
   "outputs": [],
   "source": [
    "import keyword"
   ]
  },
  {
   "cell_type": "code",
   "execution_count": 6,
   "metadata": {},
   "outputs": [
    {
     "name": "stdout",
     "output_type": "stream",
     "text": [
      "['False', 'None', 'True', 'and', 'as', 'assert', 'async', 'await', 'break', 'class', 'continue', 'def', 'del', 'elif', 'else', 'except', 'finally', 'for', 'from', 'global', 'if', 'import', 'in', 'is', 'lambda', 'nonlocal', 'not', 'or', 'pass', 'raise', 'return', 'try', 'while', 'with', 'yield']\n",
      "\n",
      " \n",
      " Total number of Keywords35\n"
     ]
    }
   ],
   "source": [
    "print(keyword.kwlist)\n",
    "print(\"\\n \\n Total number of Keywords{}\".format(len(keyword.kwlist)))"
   ]
  },
  {
   "cell_type": "code",
   "execution_count": 1,
   "metadata": {},
   "outputs": [],
   "source": [
    "#Patterns Problems"
   ]
  },
  {
   "cell_type": "code",
   "execution_count": 16,
   "metadata": {},
   "outputs": [
    {
     "name": "stdout",
     "output_type": "stream",
     "text": [
      "     **\n",
      "    ****\n",
      "   ******\n",
      "  ********\n",
      " **********\n",
      "************\n"
     ]
    }
   ],
   "source": [
    "#Star Pyramid\n",
    "\n",
    "\n",
    "a = \"*\"\n",
    "b = \" \"\n",
    "k = 5\n",
    "j = 1\n",
    "for val in range(k,-1,-1):\n",
    "    print((val*b)+(j*a)*2)\n",
    "    j+=1\n",
    "    "
   ]
  },
  {
   "cell_type": "code",
   "execution_count": 19,
   "metadata": {},
   "outputs": [
    {
     "name": "stdout",
     "output_type": "stream",
     "text": [
      "     00\n",
      "    1111\n",
      "   222222\n",
      "  33333333\n",
      " 4444444444\n",
      "555555555555\n"
     ]
    }
   ],
   "source": [
    "#Number Pyramid\n",
    "\n",
    "a=0\n",
    "b=\" \"\n",
    "\n",
    "i=5\n",
    "j=1\n",
    "\n",
    "for k in range(i,-1,-1):\n",
    "    print((k*b)+(j*str(a)*2))\n",
    "    a=a+1\n",
    "    j=j+1\n"
   ]
  },
  {
   "cell_type": "code",
   "execution_count": 23,
   "metadata": {},
   "outputs": [
    {
     "name": "stdout",
     "output_type": "stream",
     "text": [
      "     **\n",
      "    ****\n",
      "   ******\n",
      "  ********\n",
      " **********\n",
      "  ********\n",
      "   ******\n",
      "    ****\n",
      "     **\n",
      "      \n"
     ]
    }
   ],
   "source": [
    "#Half Diamond and the full diamond\n",
    "\n",
    "a = 1\n",
    "b = 5\n",
    "\n",
    "for k in range(0,2*b):\n",
    "    if(k < 4):\n",
    "        print((' '*b)+('*'*a)*2)\n",
    "        a=a+1\n",
    "        b=b-1\n",
    "    else:\n",
    "        print((' '*b)+('*'*a)*2)\n",
    "        a=a-1\n",
    "        b=b+1"
   ]
  },
  {
   "cell_type": "code",
   "execution_count": 31,
   "metadata": {},
   "outputs": [
    {
     "name": "stdout",
     "output_type": "stream",
     "text": [
      "1\n",
      "12\n",
      "123\n",
      "1234\n",
      "12345\n",
      "123456\n",
      "1234567\n",
      "12345678\n"
     ]
    }
   ],
   "source": [
    "#Number Pyramid\n",
    "a=8\n",
    "\n",
    "for i in range(1,a+1):\n",
    "    for k in range(1,i+1):\n",
    "        print(k,end=\"\")\n",
    "    print(\"\")"
   ]
  },
  {
   "cell_type": "code",
   "execution_count": 33,
   "metadata": {},
   "outputs": [
    {
     "name": "stdout",
     "output_type": "stream",
     "text": [
      "1  \n",
      "2 3  \n",
      "4 5 6  \n",
      "7 8 9 10  \n",
      "11 12 13 14 15  \n"
     ]
    }
   ],
   "source": [
    "#Nuber Pyramid\n",
    "\n",
    "n=5\n",
    "num=1\n",
    "\n",
    "for i in range(0,n):\n",
    "    for j in range(0,i+1):\n",
    "        print(num,end=' ')\n",
    "        num = num+1\n",
    "    print(\" \")"
   ]
  },
  {
   "cell_type": "code",
   "execution_count": null,
   "metadata": {},
   "outputs": [],
   "source": []
  },
  {
   "cell_type": "code",
   "execution_count": null,
   "metadata": {},
   "outputs": [],
   "source": []
  },
  {
   "cell_type": "code",
   "execution_count": null,
   "metadata": {},
   "outputs": [],
   "source": []
  },
  {
   "cell_type": "code",
   "execution_count": null,
   "metadata": {},
   "outputs": [],
   "source": []
  }
 ],
 "metadata": {
  "kernelspec": {
   "display_name": "Python 3",
   "language": "python",
   "name": "python3"
  },
  "language_info": {
   "codemirror_mode": {
    "name": "ipython",
    "version": 3
   },
   "file_extension": ".py",
   "mimetype": "text/x-python",
   "name": "python",
   "nbconvert_exporter": "python",
   "pygments_lexer": "ipython3",
   "version": "3.8.5"
  }
 },
 "nbformat": 4,
 "nbformat_minor": 4
}
