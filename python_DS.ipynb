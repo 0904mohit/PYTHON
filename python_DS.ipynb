{
 "cells": [
  {
   "cell_type": "markdown",
   "metadata": {},
   "source": [
    "List Assignment"
   ]
  },
  {
   "cell_type": "code",
   "execution_count": 92,
   "metadata": {},
   "outputs": [
    {
     "name": "stdout",
     "output_type": "stream",
     "text": [
      "Before clearing the list:[1, 2.5, 'Harry', True]\n",
      "After clearing the list:[1, 2.5, 'Harry', True]\n",
      "[0, 1, 3, 4, 7, 33]\n",
      "[True, 'Harry', 2.5, 1]\n"
     ]
    }
   ],
   "source": [
    "#Assignmenmt3-Go through other inbuilt methods like remove(),count(),clear(),sort(),reverse()\n",
    "list1 = [1,2,2.5,'Harry',True]\n",
    "list2 = [1,3,33,0,4,7]\n",
    "list1.remove(2)\n",
    "\n",
    "list1.count(5)#count the total time the particular element is present...return 0 if none of that value is present\n",
    "print(\"Before clearing the list:{}\".format(list1))\n",
    "\n",
    "#list1.clear()\n",
    "print(\"After clearing the list:{}\".format(list1))\n",
    "\n",
    "list2.sort()#it will work with the same type of data\n",
    "print(list2)\n",
    "\n",
    "list1.reverse()#It will reverse the listing of elements\n",
    "print(list1)"
   ]
  },
  {
   "cell_type": "code",
   "execution_count": 76,
   "metadata": {
    "code_folding": [],
    "scrolled": true
   },
   "outputs": [
    {
     "name": "stdout",
     "output_type": "stream",
     "text": [
      "[1, 2, [3, 4, 5, 6, [7, 8]], 9]\n"
     ]
    }
   ],
   "source": [
    "#Assignment4.1 - Add sublist(list2)\n",
    "input_list = [1,2,[3,4,5,6],9]\n",
    "list2 = [7,8]\n",
    "\n",
    "input_list[2].append(list2)\n",
    "print(input_list)"
   ]
  },
  {
   "cell_type": "code",
   "execution_count": 91,
   "metadata": {},
   "outputs": [
    {
     "name": "stdout",
     "output_type": "stream",
     "text": [
      "[10, 20, [30, 40, [50, 60, 70], 80], 90, 100]\n"
     ]
    }
   ],
   "source": [
    "#Assignment4.2 - Add item 70 after 60 in the following Python List\n",
    "#input\n",
    "l1 = [10, 20, [30, 40, [50, 60], 80], 90, 100]\n",
    "l2=70\n",
    "l1[2][2].append(l2)\n",
    "print(l1)"
   ]
  },
  {
   "cell_type": "markdown",
   "metadata": {},
   "source": [
    "#Assignment5 - [Dictionary]"
   ]
  },
  {
   "cell_type": "code",
   "execution_count": 50,
   "metadata": {},
   "outputs": [
    {
     "name": "stdout",
     "output_type": "stream",
     "text": [
      "Before adding the value:(1, 2.5, 40, True, 'Test')\n",
      "After adding the value:(1, 2.5, 40, True, 'Test', 22)\n",
      "[1, 2.5, 40, True, 'Test', 22]\n",
      "[2.5, 40, True, 'Test', 22]\n"
     ]
    }
   ],
   "source": [
    "dict1 = { \n",
    "   \"april_batch\":{ \n",
    "      \"student\":{ \n",
    "         \"name\":\"Mike\",\n",
    "         \"marks\":{ \n",
    "            \"python\":80,\n",
    "            \"maths\":70\n",
    "         }\n",
    "      }\n",
    "   }\n",
    "}\n",
    " \n",
    "#Access Mike\n",
    "dict1['april_batch']['student']['name']\n",
    "\n",
    "#Access 80\n",
    "dict1['april_batch']['student']['marks']['python']\n",
    "\n",
    "#Chnage Mike to \"Your_name\"\n",
    "dict1['april_batch']['student']['name']='Mohit_Sharma'\n",
    "dict1['april_batch']\n",
    "\n",
    "#Add ML to 80 and DL to 80\n",
    "dict1['april_batch']['student']['marks']['ML']=80\n",
    "dict1['april_batch']['student']['marks']['DL']=80\n",
    "dict1['april_batch']\n"
   ]
  },
  {
   "cell_type": "markdown",
   "metadata": {},
   "source": [
    "#Assignment6 - [Tuples]"
   ]
  },
  {
   "cell_type": "code",
   "execution_count": 51,
   "metadata": {},
   "outputs": [
    {
     "name": "stdout",
     "output_type": "stream",
     "text": [
      "Before adding the value:(1, 2.5, 40, True, 'Test')\n",
      "After adding the value:(1, 2.5, 40, True, 'Test', 22)\n",
      "[1, 2.5, 40, True, 'Test', 22]\n",
      "After deleting the value:(1, 40, True, 'Test', 22)\n"
     ]
    }
   ],
   "source": [
    "\n",
    "#Scenario 1: Add a value to a tuple\n",
    "\n",
    "tup1 = (1,2.5,40,True,'Test')\n",
    "list1 = list(tup1)\n",
    "print(\"Before adding the value:{}\".format(tup1))\n",
    "list1.append(22)\n",
    "tup1 = tuple(list1)\n",
    "print(\"After adding the value:{}\".format(tup1))\n",
    "\n",
    "#Scenario2: Remove the element from a tuple\n",
    "print(list1)\n",
    "list1.remove(2.5)\n",
    "tup1 = tuple(list1)\n",
    "print(\"After deleting the value:{}\".format(tup1))\n"
   ]
  },
  {
   "cell_type": "markdown",
   "metadata": {},
   "source": [
    "Assignment7[SETS]-CHECK THE INBUILT FUNCTION"
   ]
  },
  {
   "cell_type": "code",
   "execution_count": 4,
   "metadata": {},
   "outputs": [
    {
     "name": "stdout",
     "output_type": "stream",
     "text": [
      "[1, 2, 3, 2, 4, 5, 6]\n",
      "{1, 2, 3, 4, 5, 6}\n"
     ]
    }
   ],
   "source": [
    "List=[1,2,3,2,4,5,6]\n",
    "print(List)\n",
    "Set = set(List)\n",
    "print (Set)"
   ]
  },
  {
   "cell_type": "code",
   "execution_count": 11,
   "metadata": {},
   "outputs": [
    {
     "name": "stdout",
     "output_type": "stream",
     "text": [
      "{4, 5}\n"
     ]
    }
   ],
   "source": [
    "#difference:values that are present in set1 but not in set2\n",
    "set1={1,2,3,4,5}\n",
    "set2={1,2,3,6,7,8,9}\n",
    "set3 = set1.difference(set2)\n",
    "print(set3)"
   ]
  },
  {
   "cell_type": "code",
   "execution_count": 25,
   "metadata": {},
   "outputs": [
    {
     "name": "stdout",
     "output_type": "stream",
     "text": [
      "Both sets are same\n"
     ]
    }
   ],
   "source": [
    "#symmetric difference:Values that are not present in both the sets\n",
    "set1 = {1,2,3,4,5}\n",
    "set2 = {1,2,3,4,5}\n",
    "set3 = set1.symmetric_difference(set2)\n",
    "\n",
    "if set3 == set():\n",
    "    print(\"Both sets are same\")\n",
    "else:\n",
    "    print(\"Both sets are different\")"
   ]
  },
  {
   "cell_type": "markdown",
   "metadata": {},
   "source": [
    "Assignment8 - Inbuilt function with their differences.."
   ]
  },
  {
   "cell_type": "markdown",
   "metadata": {},
   "source": [
    "Assignment9-If Else Statement\n",
    "\n",
    "    Ask 2 numbers from users and store it in num1 and num2\n",
    "    Ask user to press 1 for addition,2 for subtraction,3 for multiplication and 4 for division\n",
    "    based on number given by user do the math operation\n"
   ]
  },
  {
   "cell_type": "code",
   "execution_count": 55,
   "metadata": {},
   "outputs": [
    {
     "name": "stdout",
     "output_type": "stream",
     "text": [
      "Enter the first number:1\n",
      "Enter the second number:2\n",
      "press-1 for add.\n",
      "press-2 for subtraction.\n",
      "press-3 for multiplication.\n",
      "press-4 for division.1\n",
      "Output for:option 1 is: 3\n"
     ]
    }
   ],
   "source": [
    "#As default data type of type is str we need to convert that in int\n",
    "num1 = int(input(\"Enter the first number:\"))\n",
    "num2 = int(input(\"Enter the second number:\"))\n",
    "num3 = int(input(\"press-1 for add.\\npress-2 for subtraction.\\npress-3 for multiplication.\\npress-4 for division.\"))\n",
    "\n",
    "if(num3 == 1):\n",
    "    num4 = (num1+num2)\n",
    "if (num3 == 2):\n",
    "    num4 = (num1 - num2)\n",
    "if (num3 == 3):\n",
    "    num4 = (num1*num2)\n",
    "if (num3 == 4):\n",
    "    num4 = (num1/num2)\n",
    "    \n",
    "    \n",
    "print(\"Output for option {} is: {}\".format(num3,num4))\n",
    "    \n",
    "    "
   ]
  },
  {
   "cell_type": "code",
   "execution_count": null,
   "metadata": {},
   "outputs": [],
   "source": []
  },
  {
   "cell_type": "code",
   "execution_count": null,
   "metadata": {},
   "outputs": [],
   "source": []
  },
  {
   "cell_type": "code",
   "execution_count": null,
   "metadata": {},
   "outputs": [],
   "source": []
  },
  {
   "cell_type": "code",
   "execution_count": null,
   "metadata": {},
   "outputs": [],
   "source": []
  },
  {
   "cell_type": "code",
   "execution_count": null,
   "metadata": {},
   "outputs": [],
   "source": []
  },
  {
   "cell_type": "code",
   "execution_count": null,
   "metadata": {},
   "outputs": [],
   "source": []
  },
  {
   "cell_type": "code",
   "execution_count": null,
   "metadata": {},
   "outputs": [],
   "source": []
  },
  {
   "cell_type": "code",
   "execution_count": null,
   "metadata": {},
   "outputs": [],
   "source": []
  },
  {
   "cell_type": "code",
   "execution_count": null,
   "metadata": {},
   "outputs": [],
   "source": []
  },
  {
   "cell_type": "code",
   "execution_count": null,
   "metadata": {},
   "outputs": [],
   "source": []
  }
 ],
 "metadata": {
  "kernelspec": {
   "display_name": "Python 3",
   "language": "python",
   "name": "python3"
  },
  "toc": {
   "base_numbering": 1,
   "nav_menu": {},
   "number_sections": true,
   "sideBar": true,
   "skip_h1_title": false,
   "title_cell": "Table of Contents",
   "title_sidebar": "Contents",
   "toc_cell": false,
   "toc_position": {},
   "toc_section_display": true,
   "toc_window_display": false
  }
 },
 "nbformat": 4,
 "nbformat_minor": 2
}
