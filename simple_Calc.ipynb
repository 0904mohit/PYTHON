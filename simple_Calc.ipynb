{
 "cells": [
  {
   "cell_type": "markdown",
   "metadata": {},
   "source": [
    "\n",
    "Task11:\n",
    "\n",
    "    Ask 2 numbers from users and store it in num1 and num2\n",
    "    Ask user to press 1 for addition,2 for subtraction,3 for multiplication and 4 for division\n",
    "    create 4 seperate functions for each operation (i.e. addition,subtraction,multiplication and division)\n",
    "    based on number given by user,call that perticular function and print the output\n",
    "\n"
   ]
  },
  {
   "cell_type": "code",
   "execution_count": null,
   "metadata": {},
   "outputs": [],
   "source": [
    "def take_input():\n",
    "    input1 = int(input(\"Eter the 1st number:\"))\n",
    "    input2 = int(input(\"Eter the 2nd number:\"))\n",
    "    return (input1,input2)\n",
    "\n",
    "def operation():\n",
    "    input3 = int(input('Press 1 for add..\\npress 2 for subtract..\\npress 3 fro multiply..\\npress 4 for divide..\\n'))\n",
    "    return input3\n",
    "\n",
    "#Function for every operation\n",
    "def add(inp1,inp2):\n",
    "    print(\"add:{}\".format(inp1 + inp2))\n",
    "    \n",
    "def sub(inp1,inp2):\n",
    "    print (\"sub:{}\".format(inp1 - inp2))\n",
    "    \n",
    "def mul(inp1,inp2):\n",
    "    print (\"mul:{}\".format(inp1*inp2))\n",
    "\n",
    "def div(inp1,inp2):\n",
    "    print (\"div:{}\".format(inp1/inp2))\n",
    "\n",
    "# FUNCTION TO PERFORM CALCULATION    \n",
    "def calculation():\n",
    "    x = take_input()\n",
    "    val1 = x[0]\n",
    "    val2 = x[1]\n",
    "    tt = operation()\n",
    "    if(tt==1):\n",
    "        add(val1,val2)\n",
    "    elif(tt==2):\n",
    "        sub(val1,val2)\n",
    "    elif(tt==3):\n",
    "        mul(val1,val2)\n",
    "    elif(tt==4):\n",
    "        div(val1,val2)\n",
    "    else:\n",
    "        print(\"Invalid entry!\")\n",
    "\n",
    "#FUNCTION TO CHECK WHETHER PERSON WANTS TO CONTINUE OR NOT        \n",
    "def continue_op():\n",
    "    input4=input(\"Press'Y' to continue..\\nPress'N' to exit..\")\n",
    "    if(input4=='Y'):\n",
    "         calculation()\n",
    "    elif(input4=='N'):\n",
    "         return\n",
    "    else:\n",
    "         print(\"Invalid Input!! exiting...\")\n",
    "\n"
   ]
  },
  {
   "cell_type": "code",
   "execution_count": null,
   "metadata": {},
   "outputs": [],
   "source": [
    "#main driver\n",
    "calculation()\n",
    "continue_op()"
   ]
  },
  {
   "cell_type": "code",
   "execution_count": null,
   "metadata": {},
   "outputs": [],
   "source": []
  },
  {
   "cell_type": "code",
   "execution_count": null,
   "metadata": {},
   "outputs": [],
   "source": []
  },
  {
   "cell_type": "code",
   "execution_count": null,
   "metadata": {},
   "outputs": [],
   "source": []
  },
  {
   "cell_type": "code",
   "execution_count": null,
   "metadata": {},
   "outputs": [],
   "source": []
  },
  {
   "cell_type": "code",
   "execution_count": null,
   "metadata": {},
   "outputs": [],
   "source": []
  },
  {
   "cell_type": "code",
   "execution_count": null,
   "metadata": {},
   "outputs": [],
   "source": []
  },
  {
   "cell_type": "code",
   "execution_count": null,
   "metadata": {},
   "outputs": [],
   "source": []
  }
 ],
 "metadata": {
  "kernelspec": {
   "display_name": "Python 3",
   "language": "python",
   "name": "python3"
  },
  "language_info": {
   "codemirror_mode": {
    "name": "ipython",
    "version": 3
   },
   "file_extension": ".py",
   "mimetype": "text/x-python",
   "name": "python",
   "nbconvert_exporter": "python",
   "pygments_lexer": "ipython3",
   "version": "3.7.6"
  }
 },
 "nbformat": 4,
 "nbformat_minor": 4
}
